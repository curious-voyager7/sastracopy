{
  "nbformat": 4,
  "nbformat_minor": 0,
  "metadata": {
    "colab": {
      "provenance": []
    },
    "kernelspec": {
      "name": "python3",
      "display_name": "Python 3"
    },
    "language_info": {
      "name": "python"
    }
  },
  "cells": [
    {
      "cell_type": "markdown",
      "source": [
        "##N-Queen"
      ],
      "metadata": {
        "id": "qpC-xTp5l1XE"
      }
    },
    {
      "cell_type": "code",
      "execution_count": null,
      "metadata": {
        "id": "qFU4R1aalvWN"
      },
      "outputs": [],
      "source": [
        "def solve_nqueens(board_size):\n",
        "    def is_safe(board, row, col):\n",
        "        for i in range(row):\n",
        "            if board[i] == col or abs(board[i] - col) == row - i:\n",
        "                return False\n",
        "        return True\n",
        "\n",
        "    def solve_nqueens_util(board, row, solutions):\n",
        "        if row == board_size:\n",
        "            solutions.append(board.copy())\n",
        "            return\n",
        "        for col in range(board_size):\n",
        "            if is_safe(board, row, col):\n",
        "                board[row] = col\n",
        "                solve_nqueens_util(board, row+1, solutions)\n",
        "    solutions = []\n",
        "    board = [0]*board_size\n",
        "    solve_nqueens_util(board,0,solutions)\n",
        "    return solutions\n",
        "\n",
        "if __name__ ==\"__main__\":\n",
        "    try:\n",
        "        board_size = int(input(\"Enter chessboard size : \"))\n",
        "        if board_size <= 0:\n",
        "            print(\"Board size must be a positive integer\")\n",
        "        else:\n",
        "            solutions = solve_nqueens(board_size)\n",
        "            print(f\"Found {len(solutions)} solutions : \")\n",
        "            for i, solution in enumerate(solutions):\n",
        "                print(f\"Solution {i+1}: {solution}\")\n",
        "    except ValueError:\n",
        "        print(\"Invalid Output\")"
      ]
    },
    {
      "cell_type": "markdown",
      "source": [
        "##M-Coloring"
      ],
      "metadata": {
        "id": "dz4DMKvil7Jj"
      }
    },
    {
      "cell_type": "code",
      "source": [
        "def is_safe(graph, color, vertex, c):\n",
        "    for i in range(len(graph)):\n",
        "        if graph[vertex][i] == 1 and color[i] == c:\n",
        "            return False\n",
        "    return True\n",
        "\n",
        "def m_coloring_util(graph, m, color, vertex):\n",
        "    if vertex == len(graph):\n",
        "        return True\n",
        "\n",
        "    for c in range(1, m + 1):\n",
        "        if is_safe(graph, color, vertex, c):\n",
        "            color[vertex] = c\n",
        "\n",
        "            if m_coloring_util(graph, m, color, vertex + 1):\n",
        "                return True\n",
        "\n",
        "            color[vertex] = 0\n",
        "\n",
        "    return False\n",
        "\n",
        "def m_coloring(graph, m):\n",
        "    color = [0] * len(graph)\n",
        "    if m_coloring_util(graph, m, color, 0):\n",
        "        print(\"Solution:\")\n",
        "        for i in range(len(color)):\n",
        "            print(f\"Vertex {i}: Color {color[i]}\")\n",
        "    else:\n",
        "        print(\"No solution exists\")\n",
        "\n",
        "\n",
        "num_vertices = int(input(\"Enter the number of vertices: \"))\n",
        "graph = []\n",
        "print(\"Enter the adjacency matrix (space-separated values for each row):\")\n",
        "for _ in range(num_vertices):\n",
        "    row = list(map(int, input().split()))\n",
        "    graph.append(row)\n",
        "\n",
        "print(\"Graph:\")\n",
        "for row in graph:\n",
        "    print(row)\n",
        "\n",
        "M = 3\n",
        "m_coloring(graph, M)"
      ],
      "metadata": {
        "id": "dSJBqfMJ40Z6"
      },
      "execution_count": null,
      "outputs": []
    },
    {
      "cell_type": "markdown",
      "source": [
        "##Water Jug"
      ],
      "metadata": {
        "id": "JiGsAX0zoQcT"
      }
    },
    {
      "cell_type": "code",
      "source": [
        "from collections import deque\n",
        "\n",
        "def is_goal(state, target):\n",
        "    return target in state\n",
        "\n",
        "def get_next_states(state, A, B):\n",
        "    x, y = state\n",
        "    return [\n",
        "        (A, y),         # Fill Jug A\n",
        "        (x, B),         # Fill Jug B\n",
        "        (0, y),         # Empty Jug A\n",
        "        (x, 0),         # Empty Jug B\n",
        "        (x - min(x, B - y), y + min(x, B - y)),  # Pour A → B\n",
        "        (x + min(y, A - x), y - min(y, A - x))   # Pour B → A\n",
        "    ]\n",
        "\n",
        "def bfs(A, B, target):\n",
        "    visited = set()\n",
        "    queue = deque()\n",
        "    parent = {}\n",
        "\n",
        "    start = (0, 0)\n",
        "    queue.append(start)\n",
        "    visited.add(start)\n",
        "    parent[start] = None\n",
        "\n",
        "    while queue:\n",
        "        state = queue.popleft()\n",
        "        if is_goal(state, target):\n",
        "            # Found the goal, trace the path\n",
        "            path = []\n",
        "            while state:\n",
        "                path.append(state)\n",
        "                state = parent[state]\n",
        "            path.reverse()\n",
        "            return path\n",
        "\n",
        "        for next_state in get_next_states(state, A, B):\n",
        "            if next_state not in visited:\n",
        "                visited.add(next_state)\n",
        "                queue.append(next_state)\n",
        "                parent[next_state] = state\n",
        "\n",
        "    return None\n",
        "\n",
        "# Example Usage\n",
        "if __name__ == '__main__':\n",
        "    A = 5   # Capacity of Jug A\n",
        "    B = 4   # Capacity of Jug B\n",
        "    target = 3\n",
        "\n",
        "    solution = bfs(A, B, target)\n",
        "    if solution:\n",
        "        print(\"Steps to reach the target:\")\n",
        "        for step in solution:\n",
        "            print(f\"Jug A: {step[0]}L, Jug B: {step[1]}L\")\n",
        "    else:\n",
        "        print(\"No solution found.\")\n"
      ],
      "metadata": {
        "id": "ih_R5ThuoPAo",
        "colab": {
          "base_uri": "https://localhost:8080/"
        },
        "outputId": "a090bdfa-9214-4506-e059-5960b625d15f"
      },
      "execution_count": null,
      "outputs": [
        {
          "output_type": "stream",
          "name": "stdout",
          "text": [
            "Steps to reach the target:\n",
            "Jug A: 0L, Jug B: 0L\n",
            "Jug A: 0L, Jug B: 4L\n",
            "Jug A: 4L, Jug B: 0L\n",
            "Jug A: 4L, Jug B: 4L\n",
            "Jug A: 5L, Jug B: 3L\n"
          ]
        }
      ]
    },
    {
      "cell_type": "markdown",
      "source": [
        "##CSP"
      ],
      "metadata": {
        "id": "R69_txvrmGzf"
      }
    },
    {
      "cell_type": "code",
      "source": [
        "% pip install python-constraint\n",
        "from IPython import get_ipython\n",
        "from IPython.display import display\n",
        "import constraint\n",
        "\n",
        "x_min = int(input(\"Enter minimum value for x : \"))\n",
        "x_max = int(input(\"Enter maximum value for x : \"))\n",
        "y_min = int(input(\"Enter minimum value for y : \"))\n",
        "y_max = int(input(\"Enter maximum value for y : \"))\n",
        "\n",
        "problem = constraint.Problem()\n",
        "problem.addVariable('x', range(x_min, x_max + 1))\n",
        "problem.addVariable('y', range(y_min, y_max + 1))\n",
        "\n",
        "def our_constraint(x,y):\n",
        "    if x+y >= 20:\n",
        "        return True\n",
        "\n",
        "problem.addConstraint(our_constraint, ['x','y'])\n",
        "solutions = problem.getSolutions()\n",
        "length = len(solutions)\n",
        "print(\"(x,y) =\\n\", end = \"\")\n",
        "for index, solution in enumerate(solutions):\n",
        "    print(\"({},{})\".format(solution['x'], solution['y']), end=\"\")\n",
        "    if index == length - 1:\n",
        "        break\n",
        "    print(\",\")\n",
        "print(\"}\")"
      ],
      "metadata": {
        "colab": {
          "base_uri": "https://localhost:8080/"
        },
        "id": "Z_TnfXL9mItU",
        "outputId": "48ad6fd8-a462-4b0a-9734-217059fd70ab"
      },
      "execution_count": null,
      "outputs": [
        {
          "output_type": "stream",
          "name": "stdout",
          "text": [
            "Collecting python-constraint\n",
            "  Downloading python-constraint-1.4.0.tar.bz2 (18 kB)\n",
            "  Preparing metadata (setup.py) ... \u001b[?25l\u001b[?25hdone\n",
            "Building wheels for collected packages: python-constraint\n",
            "  Building wheel for python-constraint (setup.py) ... \u001b[?25l\u001b[?25hdone\n",
            "  Created wheel for python-constraint: filename=python_constraint-1.4.0-py2.py3-none-any.whl size=24061 sha256=0439e3a102a98c4197eb82853ea48480c7f07870c7a94fa1a05f5c40e11dc05b\n",
            "  Stored in directory: /root/.cache/pip/wheels/1e/af/a9/990ae7e6a78319b7d7afaab2d14e7e5ae349d5613db5ae28fd\n",
            "Successfully built python-constraint\n",
            "Installing collected packages: python-constraint\n",
            "Successfully installed python-constraint-1.4.0\n"
          ]
        }
      ]
    },
    {
      "cell_type": "markdown",
      "source": [
        "##Crypt_Arithematic"
      ],
      "metadata": {
        "id": "qast7cWmmVXn"
      }
    },
    {
      "cell_type": "code",
      "source": [
        "import itertools\n",
        "\n",
        "def get_value(word, substitution):\n",
        "    s = 0\n",
        "    factor = 1\n",
        "    for letter in reversed(word):\n",
        "        s += factor * substitution[letter]\n",
        "        factor *= 10  # Fix: Multiply factor by 10\n",
        "    return s\n",
        "\n",
        "def solve2(equation):\n",
        "    left, right = equation.lower().replace(' ', '').split('=') # Fix: Remove spaces\n",
        "    left = left.split('+')\n",
        "    letters = set(right)\n",
        "    for word in left:\n",
        "        for letter in word:\n",
        "            letters.add(letter)\n",
        "    letters = list(letters)\n",
        "    digits = range(10)\n",
        "    for perm in itertools.permutations(digits, len(letters)):\n",
        "        sol = dict(zip(letters, perm))\n",
        "        if sum(get_value(word, sol) for word in left) == get_value(right, sol):\n",
        "            print('+'.join(str(get_value(word, sol)) for word in left) + \" = {} (mapping: {})\".format(get_value(right, sol), sol))\n",
        "\n",
        "# Get user input\n",
        "equation = input(\"Enter the cryptarithmetic equation (e.g., SEND+MORE=MONEY): \")\n",
        "solve2(equation)"
      ],
      "metadata": {
        "id": "EdJ1d04nmYX7"
      },
      "execution_count": null,
      "outputs": []
    },
    {
      "cell_type": "markdown",
      "source": [
        "##Alpha-Beta"
      ],
      "metadata": {
        "id": "2M0m62w9nFqw"
      }
    },
    {
      "cell_type": "code",
      "source": [
        "import math\n",
        "nodes_visited = []\n",
        "MAX, MIN = 1000, -1000\n",
        "\n",
        "def minimax(cur_depth, node_index, max_turn, scores, target_depth, b_factor, alpha, beta):\n",
        "    if cur_depth == target_depth:\n",
        "        return scores[node_index]\n",
        "    if max_turn:\n",
        "        largest = None\n",
        "        for i in range(b_factor):\n",
        "            index = node_index * b_factor + i\n",
        "            if index >= len(scores):\n",
        "                continue\n",
        "            cur = minimax(cur_depth + 1, index, False, scores, target_depth, b_factor, alpha, beta)\n",
        "            if largest is None or cur > largest:\n",
        "                largest = cur\n",
        "            alpha = max(alpha, largest)\n",
        "            nodes_visited.append(cur)\n",
        "            if beta <= alpha:\n",
        "                break\n",
        "        return largest\n",
        "    else:\n",
        "        smallest = None\n",
        "        for i in range(b_factor):\n",
        "            index = node_index * b_factor + i\n",
        "            if index >= len(scores):\n",
        "                continue\n",
        "            cur = minimax(cur_depth + 1, index, True, scores, target_depth, b_factor, alpha, beta)\n",
        "            if smallest is None or cur < smallest:\n",
        "                smallest = cur\n",
        "            beta = min(beta, smallest)\n",
        "            nodes_visited.append(cur)\n",
        "            if beta <= alpha:\n",
        "                break\n",
        "        return smallest\n",
        "\n",
        "scores = [int(s) for s in input(\"Enter the scores: \").split()]\n",
        "b_factor = int(input(\"Enter the branching factor: \"))\n",
        "player = int(input(\"Maximizer or minimizer? (Enter 1 for maximizer and 0 for minimizer): \"))\n",
        "tree_depth = math.ceil(math.log(len(scores), b_factor))\n",
        "print(\"The optimal value is:\", end=\"\")\n",
        "print(minimax(0, 0, player, scores, tree_depth, b_factor, MIN, MAX))\n",
        "\n",
        "diff = []\n",
        "for i in scores:\n",
        "    if i not in nodes_visited:\n",
        "        diff.append(i)\n",
        "if not diff:\n",
        "    print(\"No nodes were pruned\")\n",
        "else:\n",
        "    print(\"Pruned nodes are:\")\n",
        "    for i in diff:\n",
        "        print(i, sep='')"
      ],
      "metadata": {
        "id": "qSn7Qo3PnJww"
      },
      "execution_count": null,
      "outputs": []
    },
    {
      "cell_type": "markdown",
      "source": [
        "##MiniMax"
      ],
      "metadata": {
        "id": "GZnAGu_MnS66"
      }
    },
    {
      "cell_type": "code",
      "source": [
        "import math\n",
        "\n",
        "def minimax(cur_depth, node_index, max_turn, scores, target_depth, b_factor):\n",
        "    if cur_depth == target_depth:\n",
        "        return scores[node_index]\n",
        "    if (max_turn):\n",
        "        largest = None\n",
        "        for i in range(b_factor):\n",
        "            index = node_index * b_factor + i\n",
        "            if index >= len(scores):\n",
        "                continue\n",
        "            cur = minimax(cur_depth + 1, index, False, scores, target_depth, b_factor)\n",
        "            if largest is None or cur > largest:\n",
        "                largest = cur\n",
        "        return largest\n",
        "    else:\n",
        "        smallest = None\n",
        "        for i in range(b_factor):\n",
        "            index = node_index * b_factor + i\n",
        "            if index >= len(scores):\n",
        "                continue\n",
        "            cur = minimax(cur_depth + 1, index, True, scores, target_depth, b_factor)\n",
        "            if smallest is None or cur < smallest:\n",
        "                smallest = cur\n",
        "        return smallest\n",
        "\n",
        "scores = [int(s) for s in input(\"Enter the scores: \").split()]\n",
        "b_factor = int(input(\"enter the branching factor: \"))\n",
        "player = int(input(\"maximizer or minimizer? (Enter 1 for maximizer and 0 for minimizer): \"))\n",
        "print(player)\n",
        "tree_depth = math.ceil(math.log(len(scores), b_factor))\n",
        "print(\"the optimal value is:\", end=\"\")\n",
        "print(minimax(0, 0, player, scores, tree_depth, b_factor))"
      ],
      "metadata": {
        "id": "1kv5NquJnUZ3"
      },
      "execution_count": null,
      "outputs": []
    },
    {
      "cell_type": "markdown",
      "source": [
        "##Sparse Matrix"
      ],
      "metadata": {
        "id": "-Aq5eyCznXoc"
      }
    },
    {
      "cell_type": "code",
      "source": [
        "def analyze_matrix(matrix):\n",
        "    if not matrix:\n",
        "        return 0, 0\n",
        "\n",
        "    n = len(matrix)\n",
        "    visited = [[False] * n for _ in range(n)]\n",
        "    max_zeros = 0\n",
        "    island_count = 0\n",
        "\n",
        "    def dfs(x, y, is_zero_patch):\n",
        "        if x < 0 or x >= n or y < 0 or y >= n or visited[x][y]:\n",
        "            return 0\n",
        "        if (is_zero_patch and matrix[x][y] == 1) or (not is_zero_patch and matrix[x][y] == 0):\n",
        "            return 0\n",
        "\n",
        "        visited[x][y] = True\n",
        "        count = 1\n",
        "\n",
        "        count += dfs(x + 1, y, is_zero_patch)\n",
        "        count += dfs(x - 1, y, is_zero_patch)\n",
        "        count += dfs(x, y + 1, is_zero_patch)\n",
        "        count += dfs(x, y - 1, is_zero_patch)\n",
        "        return count\n",
        "\n",
        "    for i in range(n):\n",
        "        for j in range(n):\n",
        "            if matrix[i][j] == 0 and not visited[i][j]:\n",
        "                max_zeros = max(max_zeros, dfs(i, j, True))\n",
        "            elif matrix[i][j] == 1 and not visited[i][j]:\n",
        "                island_count += 1\n",
        "                dfs(i, j, False)\n",
        "\n",
        "    return max_zeros, island_count\n",
        "\n",
        "\n",
        "matrix = [\n",
        "    [1, 0, 0, 1, 1],\n",
        "    [0, 0, 1, 0, 0],\n",
        "    [1, 0, 0, 0, 1],\n",
        "    [1, 1, 1, 0, 0],\n",
        "    [0, 0, 0, 1, 1]\n",
        "]\n",
        "\n",
        "\n",
        "largest_patch, number_of_islands = analyze_matrix(matrix)\n",
        "print(\"The largest patch of zeros has size:\", largest_patch)\n",
        "print(\"The number of islands is:\", number_of_islands)"
      ],
      "metadata": {
        "id": "c5OPrNeCneWn",
        "outputId": "e73b309b-d266-406c-f2be-377a3e747172",
        "colab": {
          "base_uri": "https://localhost:8080/"
        }
      },
      "execution_count": null,
      "outputs": [
        {
          "output_type": "stream",
          "name": "stdout",
          "text": [
            "The largest patch of zeros has size: 11\n",
            "The number of islands is: 6\n"
          ]
        }
      ]
    },
    {
      "cell_type": "markdown",
      "source": [
        "##Rotten-Oranges"
      ],
      "metadata": {
        "id": "lhoHXr-CnhFt"
      }
    },
    {
      "cell_type": "code",
      "source": [
        "from collections import deque\n",
        "\n",
        "def orangesRotting(grid):\n",
        "    if not grid:\n",
        "        return -1\n",
        "\n",
        "    rows, cols = len(grid), len(grid[0])\n",
        "    queue = deque()\n",
        "    fresh_count = 0\n",
        "\n",
        "    for r in range(rows):\n",
        "        for c in range(cols):\n",
        "            if grid[r][c] == 2:\n",
        "                queue.append((r, c))\n",
        "            elif grid[r][c] == 1:\n",
        "                fresh_count += 1\n",
        "\n",
        "    directions = [(0, 1), (1, 0), (0, -1), (-1, 0)]\n",
        "    minutes = 0\n",
        "\n",
        "    while queue and fresh_count > 0:\n",
        "        for _ in range(len(queue)):\n",
        "            x, y = queue.popleft()\n",
        "            for dx, dy in directions:\n",
        "                nx, ny = x + dx, y + dy\n",
        "                if 0 <= nx < rows and 0 <= ny < cols and grid[nx][ny] == 1:\n",
        "                    grid[nx][ny] = 2\n",
        "                    fresh_count -= 1\n",
        "                    queue.append((nx, ny))\n",
        "        minutes += 1\n",
        "\n",
        "    return minutes if fresh_count == 0 else -1\n",
        "\n",
        "# Get user input for the grid\n",
        "rows = int(input(\"Enter the number of rows: \"))\n",
        "cols = int(input(\"Enter the number of columns: \"))\n",
        "\n",
        "grid = []\n",
        "print(\"Enter the grid elements row-wise (0 for empty, 1 for fresh, 2 for rotten):\")\n",
        "for _ in range(rows):\n",
        "    row = list(map(int, input().split()))\n",
        "    grid.append(row)\n",
        "\n",
        "result = orangesRotting(grid)\n",
        "print(\"Minimum time to rot all oranges:\", result)"
      ],
      "metadata": {
        "id": "vDR6ZqAgnv9J"
      },
      "execution_count": null,
      "outputs": []
    },
    {
      "cell_type": "markdown",
      "source": [
        "##Water Connection"
      ],
      "metadata": {
        "id": "DQ1Bm81Kn0D4"
      }
    },
    {
      "cell_type": "code",
      "source": [
        "def find_min_weight_paths(num_nodes, connections):\n",
        "\n",
        "    parents = [0] * (num_nodes + 1)\n",
        "    weights = [0] * (num_nodes + 1)\n",
        "    children = [0] * (num_nodes + 1)\n",
        "\n",
        "    for start, end, weight in connections:\n",
        "        children[start] = end\n",
        "        weights[start] = weight\n",
        "        parents[end] = start\n",
        "\n",
        "    min_weight_paths = []\n",
        "    for node in range(1, num_nodes + 1):\n",
        "        if parents[node] == 0 and children[node]:  # Check if it's a root node with children.\n",
        "            min_weight = float('inf')\n",
        "            current_node = node\n",
        "\n",
        "            while children[current_node] != 0:\n",
        "                min_weight = min(min_weight, weights[current_node])\n",
        "                current_node = children[current_node]\n",
        "\n",
        "            min_weight_paths.append((node, current_node, min_weight))\n",
        "\n",
        "    return min_weight_paths\n",
        "\n",
        "\n",
        "if __name__ == \"__main__\":\n",
        "    num_nodes = int(input(\"Enter the number of nodes: \"))\n",
        "    num_connections = int(input(\"Enter the number of connections: \"))\n",
        "\n",
        "    connections = []\n",
        "    print(\"Enter the connections (start_node end_node weight) one by one:\")\n",
        "    for _ in range(num_connections):\n",
        "        start, end, weight = map(int, input().split())\n",
        "        connections.append((start, end, weight))\n",
        "\n",
        "    paths = find_min_weight_paths(num_nodes, connections)\n",
        "    print(\"Number of independent paths:\", len(paths))\n",
        "    for start, end, min_weight in paths:\n",
        "        print(f\"Start Node: {start}, End Node: {end}, Minimum Weight: {min_weight}\")\n"
      ],
      "metadata": {
        "id": "Um16kCWSn2Np"
      },
      "execution_count": null,
      "outputs": []
    },
    {
      "cell_type": "markdown",
      "source": [
        "##Graph Connection"
      ],
      "metadata": {
        "id": "d2CUV2zaoYWA"
      }
    },
    {
      "cell_type": "code",
      "source": [
        "def dfs(graph, node, visited):\n",
        "    visited.add(node)\n",
        "    for neighbor in graph.get(node, []):\n",
        "        if neighbor not in visited:\n",
        "            dfs(graph, neighbor, visited)\n",
        "\n",
        "def is_connected(graph):\n",
        "    nodes = list(graph.keys())\n",
        "    if not nodes:\n",
        "        return True\n",
        "    visited = set()\n",
        "    dfs(graph, nodes[0], visited)\n",
        "    return len(visited) == len(nodes)\n",
        "\n",
        "def get_graph_from_user():\n",
        "    graph = {}\n",
        "    n = int(input(\"Enter the number of Nodes: \"))\n",
        "\n",
        "    for _ in range(n):\n",
        "        node = input(\"Enter the node name: \")\n",
        "        neighbors = input(f\"Enter the neighbors of {node} (comma-separated): \").split(\",\")\n",
        "        neighbors = [neighbor.strip() for neighbor in neighbors]\n",
        "        graph[node] = neighbors\n",
        "\n",
        "    print(graph)\n",
        "    if is_connected(graph):\n",
        "        print(\"The graph is connected.\")\n",
        "    else:\n",
        "        print(\"The graph is disconnected.\")\n",
        "\n",
        "\n",
        "get_graph_from_user()"
      ],
      "metadata": {
        "id": "ModWTOSsoaLv",
        "colab": {
          "base_uri": "https://localhost:8080/"
        },
        "outputId": "6fdd85e7-415f-408e-f1e6-141617a6dfa1"
      },
      "execution_count": null,
      "outputs": [
        {
          "output_type": "stream",
          "name": "stdout",
          "text": [
            "Enter the number of Nodes: 4\n",
            "Enter the node name: A\n",
            "Enter the neighbors of A (comma-separated): B,C\n",
            "Enter the node name: B\n",
            "Enter the neighbors of B (comma-separated): A,D\n",
            "Enter the node name: C\n",
            "Enter the neighbors of C (comma-separated): A,D\n",
            "Enter the node name: D\n",
            "Enter the neighbors of D (comma-separated): B,C\n",
            "{'A': ['B', 'C'], 'B': ['A', 'D'], 'C': ['A', 'D'], 'D': ['B', 'C']}\n",
            "The graph is connected.\n"
          ]
        }
      ]
    },
    {
      "cell_type": "markdown",
      "source": [
        "##Crossover (genetic)"
      ],
      "metadata": {
        "id": "A8vy7e-xoc3t"
      }
    },
    {
      "cell_type": "code",
      "source": [
        "def crossover(s1, s2, start, end):\n",
        "    s1 = str(s1)\n",
        "    s2 = str(s2)\n",
        "    s1_list = list(s1)\n",
        "    s2_list = list(s2)\n",
        "\n",
        "    s1_list[start:end], s2_list[start:end] = s2_list[start:end], s1_list[start:end]\n",
        "\n",
        "    child_s1 = ''.join(s1_list)\n",
        "    child_s2 = ''.join(s2_list)\n",
        "\n",
        "    return child_s1, child_s2\n",
        "s1 = int(input(\"Enter the first parent: \"))\n",
        "s2 = int(input(\"Enter the second parent: \"))\n",
        "start = int(input(\"Enter the start index: \"))\n",
        "end = int(input(\"Enter the end index: \"))\n",
        "child_s1, child_s2 = crossover(s1, s2, start, end)\n",
        "print(f\"Original s1: {s1}, Original s2: {s2}\")\n",
        "print(f\"Child s1: {child_s1}, Child s2: {child_s2}\")"
      ],
      "metadata": {
        "id": "T462V2MVoe-C",
        "outputId": "eac650a9-abde-4719-bc9a-140d4550334b",
        "colab": {
          "base_uri": "https://localhost:8080/"
        }
      },
      "execution_count": null,
      "outputs": [
        {
          "output_type": "stream",
          "name": "stdout",
          "text": [
            "Enter the first parent: 574890\n",
            "Enter the second parent: 785423\n",
            "Enter the start index: 0\n",
            "Enter the end index: 5\n",
            "Original s1: 574890, Original s2: 785423\n",
            "Child s1: 785420, Child s2: 574893\n"
          ]
        }
      ]
    },
    {
      "cell_type": "markdown",
      "source": [
        "##Tic-Tac-Toe"
      ],
      "metadata": {
        "id": "nXZ-c1G8oiUB"
      }
    },
    {
      "cell_type": "code",
      "source": [
        "def tic_tac_toe(mat):\n",
        "    x,o = 0,0\n",
        "    coord = []\n",
        "    for i in range(3):\n",
        "        for j in range(3):\n",
        "            if mat[i][j]==1:\n",
        "                x+=1\n",
        "            elif mat[i][j]==2:\n",
        "                o+=1\n",
        "            else:\n",
        "                coord.append([i,j])\n",
        "    return \"Player X\" if o>x else \"Player O\",coord\n",
        "matrix = [[1, 0, 2],[0, 2, 0],[1, 0, 1]]\n",
        "move,coord = tic_tac_toe(matrix)\n",
        "print(\"Next Move Belongs to\",move)\n",
        "print(\"Available Moves :\",coord)\n"
      ],
      "metadata": {
        "id": "UkKinZXioygd",
        "colab": {
          "base_uri": "https://localhost:8080/"
        },
        "outputId": "9f43fd67-6bda-41c9-ae55-13d2e8e59bda"
      },
      "execution_count": null,
      "outputs": [
        {
          "output_type": "stream",
          "name": "stdout",
          "text": [
            "Current Board:\n",
            "X | O |  \n",
            "-----\n",
            "X |   | O\n",
            "-----\n",
            "O |   |  \n",
            "-----\n",
            "Possible moves for X:\n",
            "Row 0, Col 2\n",
            "Row 1, Col 1\n",
            "Row 2, Col 1\n",
            "Row 2, Col 2\n"
          ]
        }
      ]
    },
    {
      "cell_type": "markdown",
      "source": [
        "##A-Star"
      ],
      "metadata": {
        "id": "nvgbkgnFQuNM"
      }
    },
    {
      "cell_type": "code",
      "source": [
        "def get(graph, a, b=None):\n",
        "    links = graph.setdefault(a, {})\n",
        "    if b is None:\n",
        "        return links\n",
        "    else:\n",
        "        return links.get(b, float('inf'))\n",
        "\n",
        "class Node:\n",
        "    def __init__(self, name: str, parent=None):\n",
        "        self.name = name\n",
        "        self.parent = parent\n",
        "        self.g = 0\n",
        "        self.h = 0\n",
        "        self.f = 0\n",
        "\n",
        "    def __eq__(self, other):\n",
        "        return self.name == other.name\n",
        "\n",
        "    def __lt__(self, other):\n",
        "        return self.f < other.f\n",
        "\n",
        "    def __repr__(self):\n",
        "        return f\"({self.name}, {self.f})\"\n",
        "\n",
        "def add_to_open(open_list, neighbor):\n",
        "    for node in open_list:\n",
        "        if neighbor == node and neighbor.f >= node.f:\n",
        "            return False\n",
        "    return True\n",
        "\n",
        "def astar_search(graph, heuristics, start, end):\n",
        "    open_list = []\n",
        "    closed_list = []\n",
        "    start_node = Node(start, None)\n",
        "    goal_node = Node(end, None)\n",
        "    open_list.append(start_node)\n",
        "    while len(open_list) > 0:\n",
        "        open_list.sort()\n",
        "        current_node = open_list.pop(0)\n",
        "        closed_list.append(current_node)\n",
        "        if current_node == goal_node:\n",
        "            path = []\n",
        "            while current_node is not None:\n",
        "                path.append(f\"{current_node.name}:{current_node.g}\")\n",
        "                current_node = current_node.parent\n",
        "            return path[::-1]\n",
        "        neighbors = graph.get(current_node.name, {})\n",
        "        for key, value in neighbors.items():\n",
        "            neighbor = Node(key, current_node)\n",
        "            if neighbor in closed_list:\n",
        "                continue\n",
        "            neighbor.g = current_node.g + get(graph, current_node.name, neighbor.name)\n",
        "            neighbor.h = heuristics.get(neighbor.name, float('inf'))\n",
        "            neighbor.f = neighbor.g + neighbor.h\n",
        "            if add_to_open(open_list, neighbor):\n",
        "                open_list.append(neighbor)\n",
        "    return None\n",
        "\n",
        "# User input section\n",
        "def input_graph():\n",
        "    graph = {}\n",
        "    print(\"Enter edges in the format 'from to cost' (type 'done' to finish):\")\n",
        "    while True:\n",
        "        line = input(\"Edge: \")\n",
        "        if line.lower() == 'done':\n",
        "            break\n",
        "        u, v, w = line.split()\n",
        "        w = int(w)\n",
        "        graph.setdefault(u, {})[v] = w\n",
        "    return graph\n",
        "\n",
        "def input_heuristics():\n",
        "    heuristics = {}\n",
        "    print(\"Enter heuristic values in the format 'node cost' (type 'done' to finish):\")\n",
        "    while True:\n",
        "        line = input(\"Heuristic: \")\n",
        "        if line.lower() == 'done':\n",
        "            break\n",
        "        node, cost = line.split()\n",
        "        heuristics[node] = int(cost)\n",
        "    return heuristics\n",
        "\n",
        "# Let’s go!\n",
        "if __name__ == \"__main__\":\n",
        "    graph = input_graph()\n",
        "    heuristics = input_heuristics()\n",
        "    start = input(\"Enter the start node: \")\n",
        "    goal = input(\"Enter the goal node: \")\n",
        "\n",
        "    path = astar_search(graph, heuristics, start, goal)\n",
        "\n",
        "    if path:\n",
        "        print(\"Path found:\")\n",
        "        print(\" -> \".join(path))\n",
        "    else:\n",
        "        print(\"No path found between the given nodes.\")\n"
      ],
      "metadata": {
        "id": "EUX-0YIkQrZW"
      },
      "execution_count": null,
      "outputs": []
    },
    {
      "cell_type": "markdown",
      "source": [
        "##Kronecker Problem"
      ],
      "metadata": {
        "id": "ZQNVT8p1ybaT"
      }
    },
    {
      "cell_type": "code",
      "source": [
        "ra=int(input(\"enter no of rows\"))\n",
        "ca=int(input(\"enter no of columns\"))\n",
        "a=[]\n",
        "for i in range(ra):\n",
        "  row = []\n",
        "  for j in range(ca):\n",
        "    xa=int(input(\"enter element\"))\n",
        "    row.append(xa)\n",
        "  a.append(row)\n",
        "rb=int(input(\"enter no of rows\"))\n",
        "cb=int(input(\"enter no of columns\"))\n",
        "b=[]\n",
        "for i in range(rb):\n",
        "  row=[]\n",
        "  for j in range(cb):\n",
        "    xb=int(input(\"enter element\"))\n",
        "    row.append(xb)\n",
        "  b.append(row)\n",
        "res=[]\n",
        "for ia in a:\n",
        "  for ea in ia:\n",
        "    temp=[]\n",
        "    for ib in b:\n",
        "      for eb in ib:\n",
        "        temp.append(ea*eb)\n",
        "    res.append(temp)\n",
        "print(res)"
      ],
      "metadata": {
        "id": "Y43oZQXsyhtZ",
        "outputId": "58a4e933-357e-48f9-c9ef-f403264712d2",
        "colab": {
          "base_uri": "https://localhost:8080/"
        }
      },
      "execution_count": null,
      "outputs": [
        {
          "output_type": "stream",
          "name": "stdout",
          "text": [
            "enter no of rows2\n",
            "enter no of columns2\n",
            "enter element1\n",
            "enter element2\n",
            "enter element3\n",
            "enter element4\n",
            "enter no of rows2\n",
            "enter no of columns2\n",
            "enter element0\n",
            "enter element2\n",
            "enter element3\n",
            "enter element5\n",
            "[[0, 2, 3, 5], [0, 4, 6, 10], [0, 6, 9, 15], [0, 8, 12, 20]]\n"
          ]
        }
      ]
    },
    {
      "cell_type": "markdown",
      "source": [
        "##Magic Square"
      ],
      "metadata": {
        "id": "drNiOTPLyoEa"
      }
    },
    {
      "cell_type": "code",
      "source": [
        "r=int(input(\"enter odd no of rows and columns\"))\n",
        "a=[]\n",
        "for i in range(r):\n",
        "  row = []\n",
        "  for j in range(r):\n",
        "    x=int(input(\"enter element\"))\n",
        "    row.append(x)\n",
        "  a.append(row)\n",
        "\n",
        "def res(a):\n",
        "  T= r*(r**2 + 1)/2\n",
        "  sumr=0\n",
        "  sumc=0\n",
        "  sumd1=0\n",
        "  sumd2=0\n",
        "  for i in range(r):\n",
        "    sumd1+=a[i][i]\n",
        "    sumd2+=a[i][r-i-1]\n",
        "  if not(sumd1==sumd2):\n",
        "    return False\n",
        "  for j in range(r):\n",
        "    sumr+=a[i][j]\n",
        "    sumc+=a[j][i]\n",
        "  if sumr==sumc==sumd1==sumd2==T:\n",
        "    return True\n",
        "  else:\n",
        "    return False\n",
        "\n",
        "magic=res(a)\n",
        "if magic:\n",
        "  print(\"IT IS MAGIC SQUARE\")\n",
        "else:\n",
        "  print(\"NOT MAGIC SQUARE\")"
      ],
      "metadata": {
        "id": "sBmWD8DiypyP"
      },
      "execution_count": null,
      "outputs": []
    },
    {
      "cell_type": "markdown",
      "source": [
        "##All Path Finder"
      ],
      "metadata": {
        "id": "UcAq_KHPy219"
      }
    },
    {
      "cell_type": "code",
      "source": [
        "def all_paths(graph, start, end, path=[]):\n",
        "    path = path + [start]\n",
        "    if start == end:\n",
        "        return [path]\n",
        "    if start not in graph:\n",
        "        return []\n",
        "    paths = []\n",
        "    for node in graph[start]:\n",
        "        if node not in path:\n",
        "            new_paths = all_paths(graph, node, end, path)\n",
        "            for new_path in new_paths:\n",
        "                paths.append(new_path)\n",
        "    return paths\n",
        "\n",
        "def input_graph():\n",
        "    graph = {}\n",
        "    print(\"Enter the graph (enter 'done' when finished):\")\n",
        "    while True:\n",
        "        node = input(\"Enter a node (or 'done' to finish): \")\n",
        "        if node.lower() == 'done':\n",
        "            break\n",
        "        connections = input(f\"Enter connections from node {node} (comma-separated): \").split(',')\n",
        "        connections = [c.strip() for c in connections if c.strip()]\n",
        "        graph[node] = connections\n",
        "    return graph\n",
        "\n",
        "# Get user input\n",
        "print(\"Graph Path Finder\")\n",
        "graph = input_graph()\n",
        "start_node = input(\"Enter the start node: \")\n",
        "end_node = input(\"Enter the end node: \")\n",
        "\n",
        "# Find and display all paths\n",
        "result_paths = all_paths(graph, start_node, end_node)\n",
        "\n",
        "print(f\"\\nAll paths from {start_node} to {end_node}:\")\n",
        "if not result_paths:\n",
        "    print(\"No paths found\")\n",
        "else:\n",
        "    for i, path in enumerate(result_paths, 1):\n",
        "        print(f\"{i}. {path}\")"
      ],
      "metadata": {
        "id": "wNQb4k65y41C"
      },
      "execution_count": null,
      "outputs": []
    },
    {
      "cell_type": "markdown",
      "source": [
        "##Mice and Hole Problem"
      ],
      "metadata": {
        "id": "R1FZEh9mzEmm"
      }
    },
    {
      "cell_type": "code",
      "source": [
        "k=[]\n",
        "c=[]\n",
        "n=int(input(\"enter how many kids:\"))\n",
        "print(\"enter the positions of kids:\")\n",
        "for i in range(n):\n",
        "    a=int(input())\n",
        "    k.append(a)\n",
        "print(\"enter the position of chocolate shelf:\")\n",
        "for i in range(n):\n",
        "    b=int(input())\n",
        "    c.append(b)\n",
        "k.sort()\n",
        "c.sort()\n",
        "diff=[]\n",
        "for i in range(n):\n",
        "    d=abs(k[i]-c[i])\n",
        "    diff.append(d)\n",
        "\n",
        "for i in range(n):\n",
        "    print(\"kid \",i+1,\" has moved \",diff[i],\" steps to reach chocolate at position \",c[i],\" from \",k[i])\n",
        "print(\"the maximum time taken by those kids to reach their shelves is:\",max(diff))"
      ],
      "metadata": {
        "id": "MGnzzuPEzGU0"
      },
      "execution_count": null,
      "outputs": []
    },
    {
      "cell_type": "markdown",
      "source": [
        "##BFS"
      ],
      "metadata": {
        "id": "GPfkByoKzJSl"
      }
    },
    {
      "cell_type": "code",
      "source": [
        "from collections import deque\n",
        "\n",
        "def bfs(graph, start, goal):\n",
        "    q = deque([(start, [start])])\n",
        "    visited = set()\n",
        "    trav_seq = []\n",
        "\n",
        "    while q:\n",
        "        node, path = q.popleft()\n",
        "        if node not in visited:\n",
        "            visited.add(node)\n",
        "            trav_seq.append(node)\n",
        "\n",
        "            if node == goal:\n",
        "                return trav_seq, path\n",
        "\n",
        "            for adj in graph.get(node, []):\n",
        "                if adj not in visited:\n",
        "                    q.append((adj, path + [adj]))\n",
        "    return trav_seq, None\n",
        "\n",
        "if __name__ == \"__main__\":\n",
        "    print(\"Enter edges in format: a b (type 'done' to finish)\")\n",
        "    graph = {}\n",
        "\n",
        "    while True:\n",
        "        edge = input(\"Edge: \")\n",
        "        if edge.lower() == 'done':\n",
        "            break\n",
        "        u, v= edge.split()\n",
        "        graph.setdefault(u, []).append(v)\n",
        "\n",
        "    start_node = input(\"Start node: \")\n",
        "    end_node = input(\"Goal node: \")\n",
        "\n",
        "    traversal, path = bfs(graph, start_node, end_node)\n",
        "\n",
        "    print(\"\\nBFS Traversal Sequence:\", traversal)\n",
        "    if path:\n",
        "        print(\"Solution Path:\", path)\n",
        "    else:\n",
        "        print(\"No path found from\", start_node, \"to\", end_node)\n"
      ],
      "metadata": {
        "id": "YMdEis3zzlOC"
      },
      "execution_count": null,
      "outputs": []
    },
    {
      "cell_type": "markdown",
      "source": [
        "##Path in Matrix"
      ],
      "metadata": {
        "id": "0lbVr1Y6zoms"
      }
    },
    {
      "cell_type": "code",
      "source": [
        "mat = [\n",
        "        [1,2,3],\n",
        "        [4,7,8],\n",
        "        [9,2,5],\n",
        "    ]\n",
        "V=3\n",
        "sum=0\n",
        "max=-1\n",
        "for j in range(V):\n",
        "  for i in range(V):\n",
        "    if max<mat[i][j]:\n",
        "      max=mat[i][j]\n",
        "  print(max,end=\" \")\n",
        "  sum+=max\n",
        "  max=-1\n",
        "print('\\n')\n",
        "print(\"Sum of the path\",sum)"
      ],
      "metadata": {
        "id": "Xal7ioEvztMt"
      },
      "execution_count": null,
      "outputs": []
    },
    {
      "cell_type": "markdown",
      "source": [
        "UCS"
      ],
      "metadata": {
        "id": "KDrDdtaaMFzN"
      }
    },
    {
      "cell_type": "code",
      "source": [
        "import heapq\n",
        "import networkx as nx\n",
        "import matplotlib.pyplot as plt\n",
        "\n",
        "def uniform_cost_search(graph, start, goal):\n",
        "\n",
        "    priority_queue = [(0, start)]\n",
        "\n",
        "    visited = {start: (0, None)}\n",
        "\n",
        "    while priority_queue:\n",
        "\n",
        "        current_cost, current_node = heapq.heappop(priority_queue)\n",
        "\n",
        "\n",
        "        if current_node == goal:\n",
        "            return current_cost, reconstruct_path(visited, start, goal)\n",
        "\n",
        "\n",
        "        for neighbor, cost in graph[current_node]:\n",
        "            total_cost = current_cost + cost\n",
        "\n",
        "            if neighbor not in visited or total_cost < visited[neighbor][0]:\n",
        "                visited[neighbor] = (total_cost, current_node)\n",
        "                heapq.heappush(priority_queue, (total_cost, neighbor))\n",
        "\n",
        "\n",
        "    return None\n",
        "\n",
        "def reconstruct_path(visited, start, goal):\n",
        "\n",
        "    path = []\n",
        "    current = goal\n",
        "    while current is not None:\n",
        "        path.append(current)\n",
        "        current = visited[current][1]\n",
        "    path.reverse()\n",
        "    return path\n",
        "\n",
        "def visualize_graph(graph, path=None):\n",
        "    G = nx.DiGraph()\n",
        "\n",
        "    for node, edges in graph.items():\n",
        "        for neighbor, cost in edges:\n",
        "            G.add_edge(node, neighbor, weight=cost)\n",
        "\n",
        "    pos = nx.spring_layout(G)\n",
        "\n",
        "    plt.figure(figsize=(6, 6))\n",
        "    nx.draw(G, pos, with_labels=True, node_color='lightblue', node_size=2000, font_size=15, font_weight='bold', edge_color='gray')\n",
        "    labels = nx.get_edge_attributes(G, 'weight')\n",
        "    nx.draw_networkx_edge_labels(G, pos, edge_labels=labels, font_size=12)\n",
        "\n",
        "    if path:\n",
        "        path_edges = list(zip(path, path[1:]))\n",
        "        nx.draw_networkx_edges(G, pos, edgelist=path_edges, edge_color='red', width=2.5)\n",
        "\n",
        "    plt.title(\"Uniform Cost Search Path Visualization\")\n",
        "    plt.show()\n",
        "\n",
        "# graph = {\n",
        "#     'A': [('B', 1), ('C', 4)],\n",
        "#     'B': [('D', 1), ('E', 3)],\n",
        "#     'C': [('F', 5)],\n",
        "#     'D': [('G', 2)],\n",
        "#     'E': [('G', 1)],\n",
        "#     'F': [('G', 2)],\n",
        "#     'G': []\n",
        "# }\n",
        "\n",
        "def get_graph_input() -> dict[str, list[tuple[str, int]]]:\n",
        "    n = int(input(\"Enter number of vertices: \"))\n",
        "    graph = {}\n",
        "\n",
        "    for _ in range(n):\n",
        "        d = input(\"Enter node value and connected vertices with weights (e.g., A B:1 C:4): \")\n",
        "        v, *connections = d.split()\n",
        "        graph[v] = []\n",
        "\n",
        "        for conn in connections:\n",
        "            node, weight = conn.split(\":\")\n",
        "            graph[v].append((node, int(weight)))\n",
        "\n",
        "    return graph\n",
        "\n",
        "\n",
        "graph=get_graph_input()\n",
        "start_node = input('Enter the starting node:')\n",
        "goal_node = input('Enter the Goal node:')\n",
        "result = uniform_cost_search(graph, start_node, goal_node)\n",
        "\n",
        "if result:\n",
        "    total_cost, path = result\n",
        "    print(f\"Least cost path from {start_node} to {goal_node}: {' -> '.join(path)} with total cost {total_cost}\")\n",
        "    visualize_graph(graph, path)\n",
        "else:\n",
        "    print(f\"No path found from {start_node} to {goal_node}\")\n"
      ],
      "metadata": {
        "id": "lCxzPdlkLzIw"
      },
      "execution_count": null,
      "outputs": []
    },
    {
      "cell_type": "markdown",
      "source": [
        "DFS Goal"
      ],
      "metadata": {
        "id": "ZaxbH2KHMVXK"
      }
    },
    {
      "cell_type": "code",
      "source": [
        "import networkx as nx\n",
        "import matplotlib.pyplot as plt\n",
        "\n",
        "def dfs(graph, start, goal, visited=None, path=None):\n",
        "    if visited is None:\n",
        "        visited = set()\n",
        "    if path is None:\n",
        "        path = [start]\n",
        "\n",
        "    visited.add(start)\n",
        "    if start == goal:\n",
        "        return path\n",
        "\n",
        "    for neighbor in graph[start]:\n",
        "      if neighbor not in visited:\n",
        "        new_path = dfs(graph, neighbor, goal, visited, path + [neighbor])\n",
        "        if new_path:\n",
        "          return new_path\n",
        "\n",
        "    return None\n",
        "\n",
        "def visualize_graph_dfs(graph, path=None):\n",
        "    G = nx.DiGraph()\n",
        "\n",
        "    for node, neighbors in graph.items():\n",
        "        for neighbor in neighbors:\n",
        "            G.add_edge(node, neighbor)\n",
        "\n",
        "    pos = nx.spring_layout(G)\n",
        "\n",
        "    plt.figure(figsize=(6, 6))\n",
        "    nx.draw(G, pos, with_labels=True, node_color='lightblue', node_size=2000, font_size=15, font_weight='bold', edge_color='gray')\n",
        "\n",
        "    if path:\n",
        "        path_edges = list(zip(path, path[1:]))\n",
        "        nx.draw_networkx_edges(G, pos, edgelist=path_edges, edge_color='red', width=2.5)\n",
        "\n",
        "    plt.title(\"DFS Path Visualization\")\n",
        "    plt.show()\n",
        "\n",
        "\n",
        "# graph = {\n",
        "#     'A': ['B', 'C'],\n",
        "#     'B': ['D', 'E'],\n",
        "#     'C': ['F'],\n",
        "#     'D': ['G'],\n",
        "#     'E': ['G'],\n",
        "#     'F': ['G'],\n",
        "#     'G': []\n",
        "# }\n",
        "\n",
        "def get_graph_input() -> dict[str, list[str]]:\n",
        "  n = int(input(\"Enter number of vertices: \"))\n",
        "  graph = {}\n",
        "  for i in range(n):\n",
        "    d = input(\"Enter node value and connected vertices: \")\n",
        "    v, *c = d.split()\n",
        "    graph[v] = c\n",
        "  return graph\n",
        "\n",
        "\n",
        "graph=get_graph_input()\n",
        "start_node = input('Enter the starting node:')\n",
        "goal_node = input('Enter the Goal node:')\n",
        "path = dfs(graph, start_node, goal_node)\n",
        "\n",
        "if path:\n",
        "    print(f\"DFS path from {start_node} to {goal_node}: {' -> '.join(path)}\")\n",
        "    visualize_graph_dfs(graph, path)\n",
        "else:\n",
        "    print(f\"No path found from {start_node} to {goal_node}\")\n"
      ],
      "metadata": {
        "id": "m7fFEKhaMNol"
      },
      "execution_count": null,
      "outputs": []
    },
    {
      "cell_type": "markdown",
      "source": [
        "DFS TRAVERSAL"
      ],
      "metadata": {
        "id": "5HRmx7GIMmmp"
      }
    },
    {
      "cell_type": "code",
      "source": [
        "def dfs_traversal(graph,start,visited):\n",
        "  visited[start]=True\n",
        "  print(start,end=\" \")\n",
        "  for i in graph[start]:\n",
        "    if visited[i]==False:\n",
        "      dfs_traversal(graph,i,visited)\n",
        "\n",
        "# graph = {\n",
        "#     'A': ['B', 'C'],\n",
        "#     'B': ['D', 'E'],\n",
        "#     'C': ['F'],\n",
        "#     'D': ['G'],\n",
        "#     'E': ['G'],\n",
        "#     'F': ['G'],\n",
        "#     'G': []\n",
        "# }\n",
        "\n",
        "def get_graph_input() -> dict[str, list[str]]:\n",
        "  n = int(input(\"Enter number of vertices: \"))\n",
        "  graph = {}\n",
        "  for i in range(n):\n",
        "    d = input(\"Enter node value and connected vertices: \")\n",
        "    v, *c = d.split()\n",
        "    graph[v] = c\n",
        "  return graph\n",
        "\n",
        "graph=get_graph_input()\n",
        "start_node = input('Enter the starting node:')\n",
        "visited = {}\n",
        "for i in graph:\n",
        "  visited[i]=False\n",
        "print(f\"Traversal from {start_node} :\")\n",
        "path = dfs_traversal(graph, start_node,visited)\n"
      ],
      "metadata": {
        "id": "VMJBqVC6Mgxw"
      },
      "execution_count": null,
      "outputs": []
    }
  ]
}